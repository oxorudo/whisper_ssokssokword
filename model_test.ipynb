{
 "cells": [
  {
   "cell_type": "code",
   "execution_count": 16,
   "metadata": {},
   "outputs": [],
   "source": [
    "from transformers import WhisperForConditionalGeneration, WhisperProcessor\n",
    "import librosa\n",
    "\n",
    "# 저장된 모델과 프로세서 로드\n",
    "model = WhisperForConditionalGeneration.from_pretrained(\"./fine_tuned_whisper_model_4\")\n",
    "processor = WhisperProcessor.from_pretrained(\"./fine_tuned_whisper_model_4\")\n",
    "\n"
   ]
  },
  {
   "cell_type": "code",
   "execution_count": 19,
   "metadata": {},
   "outputs": [],
   "source": [
    "# 저장된 모델과 프로세서 로드\n",
    "model = WhisperForConditionalGeneration.from_pretrained(\"openai/whisper-small\")\n",
    "processor = WhisperProcessor.from_pretrained(\"openai/whisper-small\")\n"
   ]
  },
  {
   "cell_type": "code",
   "execution_count": null,
   "metadata": {},
   "outputs": [
    {
     "name": "stdout",
     "output_type": "stream",
     "text": [
      "Transcription:  5. Or paste the narration script below, or click upload file to load the script from a document. You can upload plain text, MS Word, MS Excel, PDF, EPUB, RTF, Open Document and Subtitle files.\n"
     ]
    }
   ],
   "source": [
    "# 모델 사용 예제\n",
    "audio_file = \"./test_audio/Type or paste the na.wav\"\n",
    "\n",
    "# 오디오 파일 처리\n",
    "audio, rate = librosa.load(audio_file, sr=16000)  # Whisper는 16kHz 필요\n",
    "inputs = processor(audio, sampling_rate=rate, return_tensors=\"pt\")\n",
    "\n",
    "# 언어 설정: 특정 언어로 지정하려면 아래처럼 설정\n",
    "forced_decoder_ids = processor.get_decoder_prompt_ids(language=\"en\", task=\"transcribe\")\n",
    "\n",
    "# 모델 추론\n",
    "generated_ids = model.generate(\n",
    "    inputs[\"input_features\"], \n",
    "    forced_decoder_ids=forced_decoder_ids  # 언어 및 작업 설정 반영\n",
    ")\n",
    "\n",
    "# 결과 변환\n",
    "transcription = processor.batch_decode(generated_ids, skip_special_tokens=True)[0]\n",
    "\n",
    "print(\"Transcription:\", transcription)"
   ]
  },
  {
   "cell_type": "code",
   "execution_count": 166,
   "metadata": {},
   "outputs": [
    {
     "name": "stdout",
     "output_type": "stream",
     "text": [
      "Transcription:  Wu status is here.\n"
     ]
    }
   ],
   "source": [
    "# 모델 사용 예제\n",
    "audio_file = \"Worcestershire_ko.wav\"\n",
    "\n",
    "# 오디오 파일 처리\n",
    "audio, rate = librosa.load(audio_file, sr=16000)  # Whisper는 16kHz 필요\n",
    "inputs = processor(audio, sampling_rate=rate, return_tensors=\"pt\")\n",
    "\n",
    "# 언어 설정: 특정 언어로 지정하려면 아래처럼 설정\n",
    "forced_decoder_ids = processor.get_decoder_prompt_ids(language=\"en\", task=\"transcribe\")\n",
    "\n",
    "# 모델 추론\n",
    "generated_ids = model.generate(\n",
    "    inputs[\"input_features\"], \n",
    "    forced_decoder_ids=forced_decoder_ids  # 언어 및 작업 설정 반영\n",
    ")\n",
    "\n",
    "# 결과 변환\n",
    "transcription = processor.batch_decode(generated_ids, skip_special_tokens=True)[0]\n",
    "\n",
    "print(\"Transcription:\", transcription)\n"
   ]
  }
 ],
 "metadata": {
  "kernelspec": {
   "display_name": ".conda",
   "language": "python",
   "name": "python3"
  },
  "language_info": {
   "codemirror_mode": {
    "name": "ipython",
    "version": 3
   },
   "file_extension": ".py",
   "mimetype": "text/x-python",
   "name": "python",
   "nbconvert_exporter": "python",
   "pygments_lexer": "ipython3",
   "version": "3.8.20"
  }
 },
 "nbformat": 4,
 "nbformat_minor": 2
}
